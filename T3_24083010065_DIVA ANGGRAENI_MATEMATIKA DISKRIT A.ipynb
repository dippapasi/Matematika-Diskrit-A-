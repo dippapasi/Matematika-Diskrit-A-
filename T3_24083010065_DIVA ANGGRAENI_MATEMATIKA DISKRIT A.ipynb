{
  "nbformat": 4,
  "nbformat_minor": 0,
  "metadata": {
    "colab": {
      "provenance": []
    },
    "kernelspec": {
      "name": "python3",
      "display_name": "Python 3"
    },
    "language_info": {
      "name": "python"
    }
  },
  "cells": [
    {
      "cell_type": "markdown",
      "source": [
        "**NAMA: DIVA ANGGRAENI**\n",
        "\n",
        "**NPM: 24083010065**\n",
        "\n",
        "**MATEMATIKA DISKRIT (A)**\n",
        "\n",
        "**PENUGASAN: Induksi Matematika**\n",
        "\n",
        "**Kamis, 11 September 2025**"
      ],
      "metadata": {
        "id": "Li56p6YyH6NE"
      }
    },
    {
      "cell_type": "markdown",
      "source": [
        "**Soal:**\n",
        "\n",
        "Tentukan jangka bilangan bulat (n berapa saja) yang valid untuk pernyataan-pernyataan di bawah ini:\n",
        "\n",
        "(pilih dua saja)\n",
        "1. 1 + 3  + 5 + ... + (2n-1) = n^2\n",
        "2. 1 + 2 + 2^2 + 2^3 + ... + 2^n = (2^n+1) - 1\n",
        "3. 1^2 + 2^2 + 3^2 + ... + n^2 = n(n+1)(2n+1) / 6\n",
        "4. n! ≥ 2^n-1\n",
        "5. 2^n > n^2\n"
      ],
      "metadata": {
        "id": "ujia92rFIIGU"
      }
    },
    {
      "cell_type": "code",
      "source": [
        "# Nomor 1. 1 + 3  + 5 + ... + (2n-1) = n^2\n",
        "\n",
        "def sisikiri(n):\n",
        "  jumlah = 0\n",
        "  for i in range (1, n+1):\n",
        "    jumlah = jumlah + (2*i - 1)\n",
        "  return jumlah\n",
        "def sisikanan(n):\n",
        "  return n**2\n",
        "\n",
        "print(\"_ Nomor 1. 1 + 3  + 5 + ... + (2n-1) = n^2 _\")\n",
        "for n in range(-2, 10):\n",
        "    print(f\"n={n}, {sisikiri(n)} == {sisikanan(n)} -> {sisikiri(n) == sisikanan(n)}\")"
      ],
      "metadata": {
        "colab": {
          "base_uri": "https://localhost:8080/"
        },
        "id": "rLzjyoUNKPNh",
        "outputId": "fb8da237-0614-441a-91d0-6e0545ab9f0b"
      },
      "execution_count": 7,
      "outputs": [
        {
          "output_type": "stream",
          "name": "stdout",
          "text": [
            "_ Nomor 1. 1 + 3  + 5 + ... + (2n-1) = n^2 _\n",
            "n=-2, 0 == 4 -> False\n",
            "n=-1, 0 == 1 -> False\n",
            "n=0, 0 == 0 -> True\n",
            "n=1, 1 == 1 -> True\n",
            "n=2, 4 == 4 -> True\n",
            "n=3, 9 == 9 -> True\n",
            "n=4, 16 == 16 -> True\n",
            "n=5, 25 == 25 -> True\n",
            "n=6, 36 == 36 -> True\n",
            "n=7, 49 == 49 -> True\n",
            "n=8, 64 == 64 -> True\n",
            "n=9, 81 == 81 -> True\n"
          ]
        }
      ]
    },
    {
      "cell_type": "markdown",
      "source": [
        "**Penjelasan**\n",
        "\n",
        "Pada soal ini jumlah antara sisi kiri dan sisi kanan harus sama. Ketika n < 0, pernyataan bernilai **False**. Sedangkan ketika n ≥ 0, pernyataan selalu bernilai **True**. Berdasarkan hasil pengujian terhadap beberapa nilai n, dapat diketahui bahwa jangka bilangan bulat yang valid untuk pernyataan [1 + 3  + 5 + ... + (2n-1) = n^2] adalah **semua bilangan bulat n ≥ 0**."
      ],
      "metadata": {
        "id": "ybi2ym0tcyVK"
      }
    },
    {
      "cell_type": "code",
      "source": [
        "# Nomor 5. 2^n > n^2\n",
        "\n",
        "def sisikiri(n):\n",
        "    return 2**n\n",
        "def sisikanan(n):\n",
        "    return n**2\n",
        "\n",
        "print(\"_ Nomor 5. 2^n > n^2 _\")\n",
        "for n in range(-2, 10):\n",
        "    print(f\"n={n}, {sisikiri(n)} > {sisikanan(n)} -> {sisikiri(n) > sisikanan(n)}\")"
      ],
      "metadata": {
        "colab": {
          "base_uri": "https://localhost:8080/"
        },
        "id": "ad4KbMywYiJ6",
        "outputId": "391cb55f-11fa-4a74-f728-3439eddd77d2"
      },
      "execution_count": 8,
      "outputs": [
        {
          "output_type": "stream",
          "name": "stdout",
          "text": [
            "_ Nomor 5. 2^n > n^2 _\n",
            "n=-2, 0.25 > 4 -> False\n",
            "n=-1, 0.5 > 1 -> False\n",
            "n=0, 1 > 0 -> True\n",
            "n=1, 2 > 1 -> True\n",
            "n=2, 4 > 4 -> False\n",
            "n=3, 8 > 9 -> False\n",
            "n=4, 16 > 16 -> False\n",
            "n=5, 32 > 25 -> True\n",
            "n=6, 64 > 36 -> True\n",
            "n=7, 128 > 49 -> True\n",
            "n=8, 256 > 64 -> True\n",
            "n=9, 512 > 81 -> True\n"
          ]
        }
      ]
    },
    {
      "cell_type": "markdown",
      "source": [
        "**Penjelasan**\n",
        "\n",
        "Pada soal ini sisi kiri > sisi kanan. Ketika n < 0 dan n = 2, 3, 4, pernyataan bernilai <b>False</b>. Sedangkan ketika n = 0, 1 dan n ≥ 5, pernyataan bernilai **True** dan akan selalu benar seterusnya. Berdasarkan hasil pengujian terhadap beberapa nilai n, dapat diketahui bahwa jangka bilangan bulat yang valid untuk pernyataan [2^n > n^2 ] adalah **n = 0, 1 atau n ≥ 5**.\n"
      ],
      "metadata": {
        "id": "Dwtfcn38lrD5"
      }
    }
  ]
}